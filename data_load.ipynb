{
  "nbformat": 4,
  "nbformat_minor": 0,
  "metadata": {
    "colab": {
      "name": "data_load.ipynb",
      "provenance": [],
      "collapsed_sections": []
    },
    "kernelspec": {
      "name": "python3",
      "display_name": "Python 3"
    },
    "accelerator": "TPU"
  },
  "cells": [
    {
      "cell_type": "code",
      "metadata": {
        "id": "wkbwH57dOqlx",
        "colab_type": "code",
        "colab": {
          "base_uri": "https://localhost:8080/",
          "height": 836
        },
        "outputId": "b0dad783-b40c-4ca2-c256-0eb6ad9f2656"
      },
      "source": [
        "! curl -s https://packagecloud.io/install/repositories/github/git-lfs/script.deb.sh | sudo bash\n",
        "! sudo apt-get install git-lfs\n",
        "! git lfs install\n",
        "! git clone https://github.com/neheller/kits19.git"
      ],
      "execution_count": 1,
      "outputs": [
        {
          "output_type": "stream",
          "text": [
            "Detected operating system as Ubuntu/bionic.\n",
            "Checking for curl...\n",
            "Detected curl...\n",
            "Checking for gpg...\n",
            "Detected gpg...\n",
            "Running apt-get update... done.\n",
            "Installing apt-transport-https... done.\n",
            "Installing /etc/apt/sources.list.d/github_git-lfs.list...done.\n",
            "Importing packagecloud gpg key... done.\n",
            "Running apt-get update... done.\n",
            "\n",
            "The repository is setup! You can now install packages.\n",
            "Reading package lists... Done\n",
            "Building dependency tree       \n",
            "Reading state information... Done\n",
            "The following package was automatically installed and is no longer required:\n",
            "  libnvidia-common-440\n",
            "Use 'sudo apt autoremove' to remove it.\n",
            "The following NEW packages will be installed:\n",
            "  git-lfs\n",
            "0 upgraded, 1 newly installed, 0 to remove and 50 not upgraded.\n",
            "Need to get 6,877 kB of archives.\n",
            "After this operation, 16.4 MB of additional disk space will be used.\n",
            "Get:1 https://packagecloud.io/github/git-lfs/ubuntu bionic/main amd64 git-lfs amd64 2.11.0 [6,877 kB]\n",
            "Fetched 6,877 kB in 0s (14.5 MB/s)\n",
            "debconf: unable to initialize frontend: Dialog\n",
            "debconf: (No usable dialog-like program is installed, so the dialog based frontend cannot be used. at /usr/share/perl5/Debconf/FrontEnd/Dialog.pm line 76, <> line 1.)\n",
            "debconf: falling back to frontend: Readline\n",
            "debconf: unable to initialize frontend: Readline\n",
            "debconf: (This frontend requires a controlling tty.)\n",
            "debconf: falling back to frontend: Teletype\n",
            "dpkg-preconfigure: unable to re-open stdin: \n",
            "Selecting previously unselected package git-lfs.\n",
            "(Reading database ... 144332 files and directories currently installed.)\n",
            "Preparing to unpack .../git-lfs_2.11.0_amd64.deb ...\n",
            "Unpacking git-lfs (2.11.0) ...\n",
            "Setting up git-lfs (2.11.0) ...\n",
            "Git LFS initialized.\n",
            "Processing triggers for man-db (2.8.3-2ubuntu0.1) ...\n",
            "Git LFS initialized.\n",
            "Cloning into 'kits19'...\n",
            "remote: Enumerating objects: 954, done.\u001b[K\n",
            "remote: Counting objects: 100% (954/954), done.\u001b[K\n",
            "remote: Compressing objects: 100% (124/124), done.\u001b[K\n",
            "remote: Total 991 (delta 433), reused 927 (delta 408), pack-reused 37\u001b[K\n",
            "Receiving objects: 100% (991/991), 29.70 MiB | 36.51 MiB/s, done.\n",
            "Resolving deltas: 100% (451/451), done.\n"
          ],
          "name": "stdout"
        }
      ]
    },
    {
      "cell_type": "code",
      "metadata": {
        "id": "jXcm_vv3O5uj",
        "colab_type": "code",
        "colab": {
          "base_uri": "https://localhost:8080/",
          "height": 1000
        },
        "outputId": "ef36290b-11b2-4a1c-8949-dd84e7c3aff7"
      },
      "source": [
        "%cd kits19\n",
        "! python -m starter_code.get_imaging"
      ],
      "execution_count": 2,
      "outputs": [
        {
          "output_type": "stream",
          "text": [
            "/content/kits19\n",
            "50 cases to download...\n",
            "Download 1/50: \n",
            "case_00000: 100% 225959/225960 [00:04<00:00, 55973.55KB/s]\n",
            "Download 2/50: \n",
            "case_00001: 100% 276387/276388 [00:05<00:00, 47397.55KB/s]\n",
            "Download 3/50: \n",
            "case_00002: 100% 101967/101968 [00:01<00:00, 51827.88KB/s]\n",
            "Download 4/50: \n",
            "case_00003: 100% 118681/118682 [00:02<00:00, 46420.14KB/s]\n",
            "Download 5/50: \n",
            "case_00004: 100% 25269/25270 [00:00<00:00, 35467.19KB/s]\n",
            "Download 6/50: \n",
            "case_00005: 100% 313477/313478 [00:06<00:00, 47885.10KB/s]\n",
            "Download 7/50: \n",
            "case_00006: 100% 78010/78011 [00:01<00:00, 41509.62KB/s]\n",
            "Download 8/50: \n",
            "case_00007: 100% 25826/25827 [00:00<00:00, 26729.87KB/s]\n",
            "Download 9/50: \n",
            "case_00008: 100% 107068/107069 [00:03<00:00, 29688.85KB/s]\n",
            "Download 10/50: \n",
            "case_00009: 100% 34134/34135 [00:00<00:00, 39612.17KB/s]\n",
            "Download 11/50: \n",
            "case_00010: 100% 23541/23542 [00:00<00:00, 35944.18KB/s]\n",
            "Download 12/50: \n",
            "case_00011: 100% 41268/41269 [00:00<00:00, 43081.13KB/s]\n",
            "Download 13/50: \n",
            "case_00012: 100% 43185/43186 [00:01<00:00, 43183.77KB/s]\n",
            "Download 14/50: \n",
            "case_00013: 100% 44485/44486 [00:01<00:00, 35865.92KB/s]\n",
            "Download 15/50: \n",
            "case_00014: 100% 192486/192487 [00:03<00:00, 56021.09KB/s]\n",
            "Download 16/50: \n",
            "case_00015: 100% 23795/23796 [00:00<00:00, 36447.54KB/s]\n",
            "Download 17/50: \n",
            "case_00016: 100% 86929/86930 [00:01<00:00, 47317.01KB/s]\n",
            "Download 18/50: \n",
            "case_00017: 100% 49940/49941 [00:01<00:00, 45585.11KB/s]\n",
            "Download 19/50: \n",
            "case_00018: 100% 49984/49985 [00:01<00:00, 46987.81KB/s]\n",
            "Download 20/50: \n",
            "case_00019: 100% 51644/51645 [00:01<00:00, 45091.12KB/s]\n",
            "Download 21/50: \n",
            "case_00020: 100% 43148/43149 [00:00<00:00, 43279.25KB/s]\n",
            "Download 22/50: \n",
            "case_00021: 100% 17267/17268 [00:00<00:00, 20088.62KB/s]\n",
            "Download 23/50: \n",
            "case_00022: 100% 235518/235519 [00:04<00:00, 56493.35KB/s]\n",
            "Download 24/50: \n",
            "case_00023: 100% 45338/45339 [00:01<00:00, 44996.02KB/s]\n",
            "Download 25/50: \n",
            "case_00024: 100% 43319/43320 [00:00<00:00, 44403.03KB/s]\n",
            "Download 26/50: \n",
            "case_00025: 100% 42608/42609 [00:01<00:00, 28467.49KB/s]\n",
            "Download 27/50: \n",
            "case_00026: 100% 128953/128954 [00:02<00:00, 56737.56KB/s]\n",
            "Download 28/50: \n",
            "case_00027: 100% 300960/300961 [00:05<00:00, 52549.40KB/s]\n",
            "Download 29/50: \n",
            "case_00028: 100% 45001/45002 [00:01<00:00, 36981.10KB/s]\n",
            "Download 30/50: \n",
            "case_00029: 100% 62472/62473 [00:01<00:00, 44822.17KB/s]\n",
            "Download 31/50: \n",
            "case_00030: 100% 18676/18677 [00:00<00:00, 32077.27KB/s]\n",
            "Download 32/50: \n",
            "case_00031: 100% 50504/50505 [00:00<00:00, 52037.54KB/s]\n",
            "Download 33/50: \n",
            "case_00032: 100% 75286/75287 [00:01<00:00, 38333.29KB/s]\n",
            "Download 34/50: \n",
            "case_00033: 100% 191873/191874 [00:04<00:00, 46709.46KB/s]\n",
            "Download 35/50: \n",
            "case_00034: 100% 52752/52753 [00:01<00:00, 43281.45KB/s]\n",
            "Download 36/50: \n",
            "case_00035: 100% 39633/39634 [00:01<00:00, 38329.91KB/s]\n",
            "Download 37/50: \n",
            "case_00036: 100% 78614/78615 [00:01<00:00, 57122.83KB/s]\n",
            "Download 38/50: \n",
            "case_00037: 100% 40424/40425 [00:00<00:00, 42282.86KB/s]\n",
            "Download 39/50: \n",
            "case_00038: 100% 15415/15416 [00:00<00:00, 29474.20KB/s]\n",
            "Download 40/50: \n",
            "case_00039: 100% 44953/44954 [00:01<00:00, 32946.21KB/s]\n",
            "Download 41/50: \n",
            "case_00040: 100% 81954/81955 [00:01<00:00, 47531.30KB/s]\n",
            "Download 42/50: \n",
            "case_00041: 100% 25224/25225 [00:00<00:00, 29370.74KB/s]\n",
            "Download 43/50: \n",
            "case_00042: 100% 136618/136619 [00:02<00:00, 54210.67KB/s]\n",
            "Download 44/50: \n",
            "case_00043: 100% 70644/70645 [00:01<00:00, 42044.74KB/s]\n",
            "Download 45/50: \n",
            "case_00044: 100% 38419/38420 [00:00<00:00, 43679.23KB/s]\n",
            "Download 46/50: \n",
            "case_00045: 100% 25584/25585 [00:00<00:00, 37504.01KB/s]\n",
            "Download 47/50: \n",
            "case_00046: 100% 59261/59262 [00:01<00:00, 50643.45KB/s]\n",
            "Download 48/50: \n",
            "case_00047: 100% 63514/63515 [00:01<00:00, 46341.99KB/s]\n",
            "Download 49/50: \n",
            "case_00048: 100% 30867/30868 [00:00<00:00, 33409.55KB/s]\n",
            "Download 50/50: \n",
            "case_00049: 100% 289194/289195 [00:06<00:00, 44470.53KB/s]\n"
          ],
          "name": "stdout"
        }
      ]
    },
    {
      "cell_type": "code",
      "metadata": {
        "id": "zp3hUJLRPGJ0",
        "colab_type": "code",
        "colab": {}
      },
      "source": [
        "!mkdir train\n",
        "!mkdir test\n",
        "!mkdir train/imaging\n",
        "!mkdir test/imaging\n",
        "!mkdir train/segmentation\n",
        "!mkdir test/segmentation\n",
        "!mkdir license"
      ],
      "execution_count": 3,
      "outputs": []
    },
    {
      "cell_type": "code",
      "metadata": {
        "id": "USEdqRznPjAQ",
        "colab_type": "code",
        "colab": {}
      },
      "source": [
        "import shutil, os\n",
        "files = ['data/LICENSE', 'data/kits.json']\n",
        "for f in files:\n",
        "    shutil.move(f, 'license')"
      ],
      "execution_count": 4,
      "outputs": []
    },
    {
      "cell_type": "code",
      "metadata": {
        "id": "t_9kUxo-QrCf",
        "colab_type": "code",
        "colab": {}
      },
      "source": [
        "import os\n",
        "import nibabel as nib                                                                                                              \n",
        "\n",
        "def list_files(dir): \n",
        "      i=0                                                                                     \n",
        "      while(i<50):                                                                                                \n",
        "        subdirs = [x[0] for x in os.walk(dir)]                                                                            \n",
        "        for subdir in subdirs:                                                                                          \n",
        "                files = os.walk(subdir).__next__()[2]\n",
        "                if(subdir == \"data/case_{:05d}\".format(i)):\n",
        "                  if (len(files) > 0):                                                                                          \n",
        "                      for file in files:              \n",
        "                        if i < 35:    \n",
        "                          if file == 'imaging.nii.gz':\n",
        "                            os.rename(subdir+'/'+file, 'train/imaging/case_' + str(i).zfill(3) + '.nii.gz')         \n",
        "                          if file == 'segmentation.nii.gz':\n",
        "                            os.rename(subdir+'/'+file, 'train/segmentation/case_' + str(i).zfill(3) + '.nii.gz')\n",
        "\n",
        "                        if i>=35 and i<50:\n",
        "                          if file == 'imaging.nii.gz':\n",
        "                            os.rename(subdir+'/'+file, 'test/imaging/case_' + str(i).zfill(3) + '.nii.gz')\n",
        "                          if file == 'segmentation.nii.gz':\n",
        "                            os.rename(subdir+'/'+file, 'test/segmentation/case_' + str(i).zfill(3) + '.nii.gz')\n",
        "                  i = i+1"
      ],
      "execution_count": 4,
      "outputs": []
    },
    {
      "cell_type": "code",
      "metadata": {
        "id": "jmVJNYdWQs1O",
        "colab_type": "code",
        "colab": {}
      },
      "source": [
        "list_files('data/')"
      ],
      "execution_count": 7,
      "outputs": []
    },
    {
      "cell_type": "code",
      "metadata": {
        "id": "1ZrNVf5sR08c",
        "colab_type": "code",
        "colab": {}
      },
      "source": [
        "from kits19_utils import *"
      ],
      "execution_count": 8,
      "outputs": []
    },
    {
      "cell_type": "code",
      "metadata": {
        "id": "5bsFZGZxUznb",
        "colab_type": "code",
        "colab": {}
      },
      "source": [
        "save_slices_all('train/imaging', 'imaging')"
      ],
      "execution_count": 9,
      "outputs": []
    },
    {
      "cell_type": "code",
      "metadata": {
        "id": "dMGIe61ZU7wD",
        "colab_type": "code",
        "colab": {
          "base_uri": "https://localhost:8080/",
          "height": 34
        },
        "outputId": "d6dd4fd4-a228-48ba-aa75-f641b8a6e3a5"
      },
      "source": [
        "cd -"
      ],
      "execution_count": 10,
      "outputs": [
        {
          "output_type": "stream",
          "text": [
            "/content\n"
          ],
          "name": "stdout"
        }
      ]
    },
    {
      "cell_type": "code",
      "metadata": {
        "id": "Mgt0UHUZU8Pp",
        "colab_type": "code",
        "colab": {
          "base_uri": "https://localhost:8080/",
          "height": 34
        },
        "outputId": "019f3df5-6541-497b-e3b6-7b4464a00874"
      },
      "source": [
        "cd kits19"
      ],
      "execution_count": 11,
      "outputs": [
        {
          "output_type": "stream",
          "text": [
            "/content/kits19\n"
          ],
          "name": "stdout"
        }
      ]
    },
    {
      "cell_type": "code",
      "metadata": {
        "id": "WUgcHiNMU9xn",
        "colab_type": "code",
        "colab": {}
      },
      "source": [
        "save_slices_all('train/segmentation', 'segmentation')"
      ],
      "execution_count": 12,
      "outputs": []
    },
    {
      "cell_type": "code",
      "metadata": {
        "id": "SUeVaPtAVBqB",
        "colab_type": "code",
        "colab": {
          "base_uri": "https://localhost:8080/",
          "height": 34
        },
        "outputId": "76580db7-fe5d-4300-b0ed-92646e9e93be"
      },
      "source": [
        "cd -"
      ],
      "execution_count": 13,
      "outputs": [
        {
          "output_type": "stream",
          "text": [
            "/content\n"
          ],
          "name": "stdout"
        }
      ]
    },
    {
      "cell_type": "code",
      "metadata": {
        "id": "dzossqYFVC8e",
        "colab_type": "code",
        "colab": {
          "base_uri": "https://localhost:8080/",
          "height": 34
        },
        "outputId": "0c257b51-8801-4ad3-a283-a5b665b8e729"
      },
      "source": [
        "cd kits19"
      ],
      "execution_count": 14,
      "outputs": [
        {
          "output_type": "stream",
          "text": [
            "/content/kits19\n"
          ],
          "name": "stdout"
        }
      ]
    },
    {
      "cell_type": "code",
      "metadata": {
        "id": "s3AE6cyUVD9q",
        "colab_type": "code",
        "colab": {}
      },
      "source": [
        "save_slices_all('test/imaging', 'imaging')"
      ],
      "execution_count": 15,
      "outputs": []
    },
    {
      "cell_type": "code",
      "metadata": {
        "id": "vAanhEwMVGTx",
        "colab_type": "code",
        "colab": {
          "base_uri": "https://localhost:8080/",
          "height": 34
        },
        "outputId": "7ea5e0b9-f019-424b-f039-82c7a40b3a22"
      },
      "source": [
        "cd -"
      ],
      "execution_count": 21,
      "outputs": [
        {
          "output_type": "stream",
          "text": [
            "/content\n"
          ],
          "name": "stdout"
        }
      ]
    },
    {
      "cell_type": "code",
      "metadata": {
        "id": "zNDs46nJVHon",
        "colab_type": "code",
        "colab": {
          "base_uri": "https://localhost:8080/",
          "height": 34
        },
        "outputId": "e39216b4-8d6a-418e-f674-24e552a9bf5f"
      },
      "source": [
        "cd kits19"
      ],
      "execution_count": 22,
      "outputs": [
        {
          "output_type": "stream",
          "text": [
            "/content/kits19\n"
          ],
          "name": "stdout"
        }
      ]
    },
    {
      "cell_type": "code",
      "metadata": {
        "id": "YVzzlIFXVIoe",
        "colab_type": "code",
        "colab": {}
      },
      "source": [
        "save_slices_all('test/segmentation', 'segmentation')"
      ],
      "execution_count": 18,
      "outputs": []
    },
    {
      "cell_type": "code",
      "metadata": {
        "id": "rW4HWKuSXM2R",
        "colab_type": "code",
        "colab": {
          "base_uri": "https://localhost:8080/",
          "height": 122
        },
        "outputId": "02e3cec3-ad4f-4882-feba-61423c7eb4c2"
      },
      "source": [
        "from google.colab import drive\n",
        "drive.mount('/content/drive')"
      ],
      "execution_count": 19,
      "outputs": [
        {
          "output_type": "stream",
          "text": [
            "Go to this URL in a browser: https://accounts.google.com/o/oauth2/auth?client_id=947318989803-6bn6qk8qdgf4n4g3pfee6491hc0brc4i.apps.googleusercontent.com&redirect_uri=urn%3aietf%3awg%3aoauth%3a2.0%3aoob&response_type=code&scope=email%20https%3a%2f%2fwww.googleapis.com%2fauth%2fdocs.test%20https%3a%2f%2fwww.googleapis.com%2fauth%2fdrive%20https%3a%2f%2fwww.googleapis.com%2fauth%2fdrive.photos.readonly%20https%3a%2f%2fwww.googleapis.com%2fauth%2fpeopleapi.readonly\n",
            "\n",
            "Enter your authorization code:\n",
            "··········\n",
            "Mounted at /content/drive\n"
          ],
          "name": "stdout"
        }
      ]
    },
    {
      "cell_type": "code",
      "metadata": {
        "id": "QLwuTqZeXw_9",
        "colab_type": "code",
        "colab": {
          "base_uri": "https://localhost:8080/",
          "height": 34
        },
        "outputId": "14b9d89e-c8f0-4210-fe0d-dfd29df17fb3"
      },
      "source": [
        "import shutil\n",
        "shutil.make_archive('train_imaging_slices_zip', 'zip', 'train/imaging/imaging_slices')"
      ],
      "execution_count": 24,
      "outputs": [
        {
          "output_type": "execute_result",
          "data": {
            "text/plain": [
              "'/content/kits19/train_imaging_slices_zip.zip'"
            ]
          },
          "metadata": {
            "tags": []
          },
          "execution_count": 24
        }
      ]
    },
    {
      "cell_type": "code",
      "metadata": {
        "id": "7ZzKKA8WYjPT",
        "colab_type": "code",
        "colab": {
          "base_uri": "https://localhost:8080/",
          "height": 34
        },
        "outputId": "0b092b6a-b7cb-4af5-858e-1aa45c5699eb"
      },
      "source": [
        "shutil.make_archive('train_segmentation_slices_zip', 'zip', 'train/segmentation/segmentation_slices')"
      ],
      "execution_count": 25,
      "outputs": [
        {
          "output_type": "execute_result",
          "data": {
            "text/plain": [
              "'/content/kits19/train_segmentation_slices_zip.zip'"
            ]
          },
          "metadata": {
            "tags": []
          },
          "execution_count": 25
        }
      ]
    },
    {
      "cell_type": "code",
      "metadata": {
        "id": "yIkQYDi0YssJ",
        "colab_type": "code",
        "colab": {}
      },
      "source": [
        "!cp -r 'train_imaging_slices_zip.zip' /content/drive/My\\ Drive/Dane/train"
      ],
      "execution_count": 26,
      "outputs": []
    },
    {
      "cell_type": "code",
      "metadata": {
        "id": "D8tiUGHfY6hW",
        "colab_type": "code",
        "colab": {}
      },
      "source": [
        "!cp -r 'train_segmentation_slices_zip.zip' /content/drive/My\\ Drive/Dane/train"
      ],
      "execution_count": 27,
      "outputs": []
    },
    {
      "cell_type": "code",
      "metadata": {
        "id": "zeh59EwEZH3q",
        "colab_type": "code",
        "colab": {
          "base_uri": "https://localhost:8080/",
          "height": 34
        },
        "outputId": "ef27df48-c73f-4a1d-8500-75faa76420ab"
      },
      "source": [
        "shutil.make_archive('test_imaging_slices_zip', 'zip', 'test/imaging/imaging_slices')"
      ],
      "execution_count": 28,
      "outputs": [
        {
          "output_type": "execute_result",
          "data": {
            "text/plain": [
              "'/content/kits19/test_imaging_slices_zip.zip'"
            ]
          },
          "metadata": {
            "tags": []
          },
          "execution_count": 28
        }
      ]
    },
    {
      "cell_type": "code",
      "metadata": {
        "id": "BAv-SFTzZIHF",
        "colab_type": "code",
        "colab": {
          "base_uri": "https://localhost:8080/",
          "height": 34
        },
        "outputId": "d4669820-277e-4734-f110-ca5d7fe81753"
      },
      "source": [
        "shutil.make_archive('test_segmentation_slices_zip', 'zip', 'test/segmentation/segmentation_slices')"
      ],
      "execution_count": 29,
      "outputs": [
        {
          "output_type": "execute_result",
          "data": {
            "text/plain": [
              "'/content/kits19/test_segmentation_slices_zip.zip'"
            ]
          },
          "metadata": {
            "tags": []
          },
          "execution_count": 29
        }
      ]
    },
    {
      "cell_type": "code",
      "metadata": {
        "id": "L6iA-cNYZIZL",
        "colab_type": "code",
        "colab": {}
      },
      "source": [
        "!cp -r 'test_imaging_slices_zip.zip' /content/drive/My\\ Drive/Dane/test"
      ],
      "execution_count": 30,
      "outputs": []
    },
    {
      "cell_type": "code",
      "metadata": {
        "id": "qyEL28nNZIjM",
        "colab_type": "code",
        "colab": {}
      },
      "source": [
        "!cp -r 'test_segmentation_slices_zip.zip' /content/drive/My\\ Drive/Dane/test"
      ],
      "execution_count": 31,
      "outputs": []
    }
  ]
}